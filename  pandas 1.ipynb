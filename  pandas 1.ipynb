{
 "cells": [
  {
   "cell_type": "markdown",
   "id": "3f584c2f-2f21-44d4-a7cd-4d1aee4d7db4",
   "metadata": {},
   "source": [
    "## pandas ------> pandas is open -source libary of python that is \n",
    "                   used for handle data manipulation "
   ]
  },
  {
   "cell_type": "code",
   "execution_count": 3,
   "id": "c1afe971-be33-47d6-8fe2-60160e0eb3a9",
   "metadata": {},
   "outputs": [
    {
     "name": "stdout",
     "output_type": "stream",
     "text": [
      "Requirement already satisfied: pandas in c:\\users\\choud\\anaconda3\\lib\\site-packages (2.2.2)\n",
      "Requirement already satisfied: numpy>=1.26.0 in c:\\users\\choud\\anaconda3\\lib\\site-packages (from pandas) (1.26.4)\n",
      "Requirement already satisfied: python-dateutil>=2.8.2 in c:\\users\\choud\\anaconda3\\lib\\site-packages (from pandas) (2.9.0.post0)\n",
      "Requirement already satisfied: pytz>=2020.1 in c:\\users\\choud\\anaconda3\\lib\\site-packages (from pandas) (2024.1)\n",
      "Requirement already satisfied: tzdata>=2022.7 in c:\\users\\choud\\anaconda3\\lib\\site-packages (from pandas) (2023.3)\n",
      "Requirement already satisfied: six>=1.5 in c:\\users\\choud\\anaconda3\\lib\\site-packages (from python-dateutil>=2.8.2->pandas) (1.16.0)\n",
      "Note: you may need to restart the kernel to use updated packages.\n"
     ]
    }
   ],
   "source": [
    "pip install pandas "
   ]
  },
  {
   "cell_type": "code",
   "execution_count": 4,
   "id": "2149a811-6aa3-4ac7-bf16-11c42a4c8b1c",
   "metadata": {},
   "outputs": [],
   "source": [
    "import pandas as pd"
   ]
  },
  {
   "cell_type": "code",
   "execution_count": 5,
   "id": "fda2a04d-115b-4fd0-a7bc-cd171979c1b7",
   "metadata": {},
   "outputs": [],
   "source": [
    "## data structure of python \n",
    "## (a).series ----> it is one -dimensional array and it shows only value\n",
    "## (b). dataframe ----> it is multi-dimensional array and it contains value with column name"
   ]
  },
  {
   "cell_type": "markdown",
   "id": "e1dfe62c-f215-429a-93c4-bb809c2dafc9",
   "metadata": {},
   "source": [
    "## (a)--> series "
   ]
  },
  {
   "cell_type": "code",
   "execution_count": 7,
   "id": "361cc465-f44d-4ad9-a38d-01bfb7458867",
   "metadata": {},
   "outputs": [
    {
     "data": {
      "text/plain": [
       "0     1\n",
       "1    54\n",
       "2    78\n",
       "3    90\n",
       "dtype: int64"
      ]
     },
     "execution_count": 7,
     "metadata": {},
     "output_type": "execute_result"
    }
   ],
   "source": [
    "a=pd.Series([1,54,78,90])\n",
    "a"
   ]
  },
  {
   "cell_type": "code",
   "execution_count": 8,
   "id": "a623ddf4-b716-4844-ac53-ad2ce2911e5a",
   "metadata": {},
   "outputs": [
    {
     "data": {
      "text/plain": [
       "pandas.core.series.Series"
      ]
     },
     "execution_count": 8,
     "metadata": {},
     "output_type": "execute_result"
    }
   ],
   "source": [
    "type(a)"
   ]
  },
  {
   "cell_type": "markdown",
   "id": "fd101296-b438-487d-a290-1a7917b7ada8",
   "metadata": {},
   "source": [
    "## (b)---> dataframe "
   ]
  },
  {
   "cell_type": "code",
   "execution_count": 10,
   "id": "afdf7753-16f4-45e6-adc7-c6553cc30931",
   "metadata": {
    "scrolled": true
   },
   "outputs": [
    {
     "data": {
      "text/html": [
       "<div>\n",
       "<style scoped>\n",
       "    .dataframe tbody tr th:only-of-type {\n",
       "        vertical-align: middle;\n",
       "    }\n",
       "\n",
       "    .dataframe tbody tr th {\n",
       "        vertical-align: top;\n",
       "    }\n",
       "\n",
       "    .dataframe thead th {\n",
       "        text-align: right;\n",
       "    }\n",
       "</style>\n",
       "<table border=\"1\" class=\"dataframe\">\n",
       "  <thead>\n",
       "    <tr style=\"text-align: right;\">\n",
       "      <th></th>\n",
       "      <th>emp_id</th>\n",
       "      <th>name</th>\n",
       "      <th>deprtement</th>\n",
       "      <th>salary</th>\n",
       "    </tr>\n",
       "  </thead>\n",
       "  <tbody>\n",
       "    <tr>\n",
       "      <th>0</th>\n",
       "      <td>1</td>\n",
       "      <td>aman</td>\n",
       "      <td>it</td>\n",
       "      <td>200</td>\n",
       "    </tr>\n",
       "    <tr>\n",
       "      <th>1</th>\n",
       "      <td>2</td>\n",
       "      <td>sam</td>\n",
       "      <td>sles</td>\n",
       "      <td>100</td>\n",
       "    </tr>\n",
       "    <tr>\n",
       "      <th>2</th>\n",
       "      <td>3</td>\n",
       "      <td>aniket</td>\n",
       "      <td>sales</td>\n",
       "      <td>500</td>\n",
       "    </tr>\n",
       "    <tr>\n",
       "      <th>3</th>\n",
       "      <td>4</td>\n",
       "      <td>pallavi</td>\n",
       "      <td>it</td>\n",
       "      <td>200</td>\n",
       "    </tr>\n",
       "  </tbody>\n",
       "</table>\n",
       "</div>"
      ],
      "text/plain": [
       "   emp_id     name deprtement  salary\n",
       "0       1     aman         it     200\n",
       "1       2      sam       sles     100\n",
       "2       3   aniket      sales     500\n",
       "3       4  pallavi         it     200"
      ]
     },
     "execution_count": 10,
     "metadata": {},
     "output_type": "execute_result"
    }
   ],
   "source": [
    "a={\n",
    "    \"emp_id\":[1,2,3,4],\n",
    "    \"name\":[\"aman\",\"sam\",\"aniket\",\"pallavi\"],\n",
    "    \"deprtement\":[\"it\",\"sles\",\"sales\",\"it\"],\n",
    "    \"salary\":[200,100,500,200]\n",
    "    \n",
    "}\n",
    "df =pd.DataFrame(a)\n",
    "df"
   ]
  },
  {
   "cell_type": "code",
   "execution_count": 11,
   "id": "ebec81b9-0b7e-4160-86b7-ed4b5051f708",
   "metadata": {},
   "outputs": [],
   "source": [
    "df.to_csv(\"employees.csv\", index=False)"
   ]
  },
  {
   "cell_type": "code",
   "execution_count": 21,
   "id": "98a09ae1-ca3d-4730-ba1f-5298ed65086f",
   "metadata": {},
   "outputs": [
    {
     "name": "stderr",
     "output_type": "stream",
     "text": [
      "<>:1: SyntaxWarning: invalid escape sequence '\\O'\n",
      "<>:1: SyntaxWarning: invalid escape sequence '\\O'\n",
      "C:\\Users\\Choud\\AppData\\Local\\Temp\\ipykernel_8592\\801430383.py:1: SyntaxWarning: invalid escape sequence '\\O'\n",
      "  df.to_csv(\"C:\\\\Users\\\\Choud\\OneDrive\\\\Pictures\\\\linux\\\\employ_info.csv\",index=False)\n"
     ]
    }
   ],
   "source": [
    "df.to_csv(\"C:\\\\Users\\\\Choud\\OneDrive\\\\Pictures\\\\linux\\\\employ_info.csv\",index=False)"
   ]
  },
  {
   "cell_type": "code",
   "execution_count": null,
   "id": "c935bb47-2fc7-4994-a7fb-330858d81519",
   "metadata": {},
   "outputs": [],
   "source": []
  }
 ],
 "metadata": {
  "kernelspec": {
   "display_name": "Python 3 (ipykernel)",
   "language": "python",
   "name": "python3"
  },
  "language_info": {
   "codemirror_mode": {
    "name": "ipython",
    "version": 3
   },
   "file_extension": ".py",
   "mimetype": "text/x-python",
   "name": "python",
   "nbconvert_exporter": "python",
   "pygments_lexer": "ipython3",
   "version": "3.12.3"
  }
 },
 "nbformat": 4,
 "nbformat_minor": 5
}
