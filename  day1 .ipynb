{
 "cells": [
  {
   "cell_type": "code",
   "execution_count": 2,
   "id": "edb11a85-f818-46d2-a8e2-c45c2228cc9f",
   "metadata": {},
   "outputs": [],
   "source": [
    "# introduction to numpy ----->\n",
    "# numpy is an open source library  that is used for scientifice calculation \n",
    "## why numpy is better than list !\n",
    "##  1--> list hetrogenous data type and numpy is homogenous data typeabs \n",
    "## 2---> list take more space or memory as compair to numpy \n",
    "## 3---> list take time execution as compare to numpy"
   ]
  },
  {
   "cell_type": "code",
   "execution_count": 4,
   "id": "e2f3ed5e-f1b6-4749-ac71-a474f21de742",
   "metadata": {},
   "outputs": [
    {
     "name": "stdout",
     "output_type": "stream",
     "text": [
      "Requirement already satisfied: numpy in c:\\users\\choud\\anaconda3\\lib\\site-packages (1.26.4)\n",
      "Note: you may need to restart the kernel to use updated packages.\n"
     ]
    }
   ],
   "source": [
    "pip install numpy"
   ]
  },
  {
   "cell_type": "code",
   "execution_count": 7,
   "id": "38fe5fe6-fd41-4ac4-95a6-bd6ce719fb3c",
   "metadata": {},
   "outputs": [],
   "source": [
    "import numpy as np"
   ]
  },
  {
   "cell_type": "code",
   "execution_count": 9,
   "id": "7717eea4-89a6-4560-bbaa-3aad33f8e070",
   "metadata": {},
   "outputs": [
    {
     "data": {
      "text/plain": [
       "list"
      ]
     },
     "execution_count": 9,
     "metadata": {},
     "output_type": "execute_result"
    }
   ],
   "source": [
    "a=[10,20,30,40]\n",
    "type(a)"
   ]
  },
  {
   "cell_type": "code",
   "execution_count": 17,
   "id": "47026d80-9963-4d09-9473-60f66710779f",
   "metadata": {},
   "outputs": [
    {
     "data": {
      "text/plain": [
       "numpy.ndarray"
      ]
     },
     "execution_count": 17,
     "metadata": {},
     "output_type": "execute_result"
    }
   ],
   "source": [
    "b=np.array(a)\n",
    "type(b)"
   ]
  },
  {
   "cell_type": "code",
   "execution_count": null,
   "id": "0ec9f700-a6ad-4da6-9805-7561c797a2ab",
   "metadata": {},
   "outputs": [],
   "source": []
  },
  {
   "cell_type": "markdown",
   "id": "09b57271-5ed5-4995-8b8c-4d1f4158345a",
   "metadata": {},
   "source": [
    "## how can we create a user define array"
   ]
  },
  {
   "cell_type": "code",
   "execution_count": 24,
   "id": "2aa2865c-bbdf-447f-95e9-6a562c411015",
   "metadata": {},
   "outputs": [
    {
     "name": "stdin",
     "output_type": "stream",
     "text": [
      "enter your size 3\n",
      "enter your number  1\n",
      "enter your number  2\n",
      "enter your number  3\n"
     ]
    },
    {
     "name": "stdout",
     "output_type": "stream",
     "text": [
      "[1, 2, 3]\n"
     ]
    },
    {
     "data": {
      "text/plain": [
       "array([1, 2, 3])"
      ]
     },
     "execution_count": 24,
     "metadata": {},
     "output_type": "execute_result"
    }
   ],
   "source": [
    "a=[]\n",
    "size=int(input(\"enter your size\"))\n",
    "for i in range(size):\n",
    "    val =int(input(\"enter your number \"))\n",
    "    a.append(val)\n",
    "print(a)\n",
    "b=np.array(a)\n",
    "b"
   ]
  },
  {
   "cell_type": "code",
   "execution_count": 28,
   "id": "03d5fdc3-38d3-4514-90f9-720979b913ec",
   "metadata": {},
   "outputs": [
    {
     "data": {
      "text/plain": [
       "numpy.ndarray"
      ]
     },
     "execution_count": 28,
     "metadata": {},
     "output_type": "execute_result"
    }
   ],
   "source": [
    "type(b)"
   ]
  },
  {
   "cell_type": "markdown",
   "id": "95e7ffc3-373e-4231-9268-864ce5e1d09c",
   "metadata": {},
   "source": [
    "## how can we check shape and size and dimensional os array"
   ]
  },
  {
   "cell_type": "code",
   "execution_count": 35,
   "id": "8c432b0c-eb59-436a-b4a5-f6f8723365e1",
   "metadata": {},
   "outputs": [
    {
     "data": {
      "text/plain": [
       "array([[ 1,  2,  3],\n",
       "       [12,  3,  4],\n",
       "       [ 5,  5,  4]])"
      ]
     },
     "execution_count": 35,
     "metadata": {},
     "output_type": "execute_result"
    }
   ],
   "source": [
    "a=[[1,2,3],[12,3,4],[5,5,4]]\n",
    "b=np.array(a)\n",
    "b"
   ]
  },
  {
   "cell_type": "code",
   "execution_count": 43,
   "id": "c0d1aab8-4c92-4528-a1a3-02fec49cbd20",
   "metadata": {},
   "outputs": [
    {
     "name": "stdout",
     "output_type": "stream",
     "text": [
      "total shape= (3, 3)\n"
     ]
    }
   ],
   "source": [
    "print(\"total shape=\",b.shape)## shape =n(row),n(col)"
   ]
  },
  {
   "cell_type": "code",
   "execution_count": 45,
   "id": "2bfd7808-5034-40bd-a53e-57601a44e143",
   "metadata": {},
   "outputs": [
    {
     "name": "stdout",
     "output_type": "stream",
     "text": [
      "total size  9\n"
     ]
    }
   ],
   "source": [
    "print(\"total size \",b.size) ## size =n(rows) * n(col)"
   ]
  },
  {
   "cell_type": "raw",
   "id": "ffd059b8-e172-4698-99c0-20698a775bae",
   "metadata": {},
   "source": [
    "print(\"total dimensional\",b.ndim) # for dimen"
   ]
  },
  {
   "cell_type": "code",
   "execution_count": 51,
   "id": "d4022547-2f3d-47b8-89e4-d2a0c2d196c7",
   "metadata": {},
   "outputs": [],
   "source": [
    "# per-defined fuitnction in numpy"
   ]
  },
  {
   "cell_type": "code",
   "execution_count": 53,
   "id": "ca9bfcca-e756-4afc-916c-dff59176fc2d",
   "metadata": {},
   "outputs": [],
   "source": [
    "# (1).zeros () ----> it will return an array in which all the valles will be 0 in \n",
    "## either one -dimensional or multi-dimensional "
   ]
  },
  {
   "cell_type": "code",
   "execution_count": 55,
   "id": "442b92cf-238e-4423-8f9e-7f95fddbfbd8",
   "metadata": {},
   "outputs": [
    {
     "data": {
      "text/plain": [
       "array([0., 0., 0.])"
      ]
     },
     "execution_count": 55,
     "metadata": {},
     "output_type": "execute_result"
    }
   ],
   "source": [
    "a=np.zeros(3)\n",
    "a"
   ]
  },
  {
   "cell_type": "code",
   "execution_count": 57,
   "id": "94ebf599-1600-41ac-bf97-9ffd0d6e891c",
   "metadata": {},
   "outputs": [
    {
     "data": {
      "text/plain": [
       "array([[0., 0., 0.],\n",
       "       [0., 0., 0.],\n",
       "       [0., 0., 0.]])"
      ]
     },
     "execution_count": 57,
     "metadata": {},
     "output_type": "execute_result"
    }
   ],
   "source": [
    "b=np.zeros((3,3))\n",
    "b"
   ]
  },
  {
   "cell_type": "code",
   "execution_count": 63,
   "id": "3317f3e1-c076-4225-bc09-eeff7fc1b2b4",
   "metadata": {},
   "outputs": [
    {
     "name": "stdout",
     "output_type": "stream",
     "text": [
      "total shape  = (3,)\n",
      "total eliment 3\n"
     ]
    }
   ],
   "source": [
    "print(\"total shape  =\",a.shape)\n",
    "print(\"total eliment\",a.size)"
   ]
  },
  {
   "cell_type": "code",
   "execution_count": 65,
   "id": "7fb7ce1a-2560-491d-aec5-daed25cd362c",
   "metadata": {},
   "outputs": [
    {
     "name": "stdout",
     "output_type": "stream",
     "text": [
      "total shape  = (3, 3)\n",
      "total eliment 9\n"
     ]
    }
   ],
   "source": [
    "print(\"total shape  =\",b.shape)\n",
    "print(\"total eliment\",b.size)"
   ]
  },
  {
   "cell_type": "code",
   "execution_count": null,
   "id": "d471777c-7d5a-4c70-87a1-091aa0036afa",
   "metadata": {},
   "outputs": [],
   "source": []
  }
 ],
 "metadata": {
  "kernelspec": {
   "display_name": "Python 3 (ipykernel)",
   "language": "python",
   "name": "python3"
  },
  "language_info": {
   "codemirror_mode": {
    "name": "ipython",
    "version": 3
   },
   "file_extension": ".py",
   "mimetype": "text/x-python",
   "name": "python",
   "nbconvert_exporter": "python",
   "pygments_lexer": "ipython3",
   "version": "3.12.3"
  }
 },
 "nbformat": 4,
 "nbformat_minor": 5
}
